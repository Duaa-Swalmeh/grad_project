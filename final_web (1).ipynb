{
  "nbformat": 4,
  "nbformat_minor": 0,
  "metadata": {
    "colab": {
      "provenance": []
    },
    "kernelspec": {
      "name": "python3",
      "display_name": "Python 3"
    },
    "language_info": {
      "name": "python"
    }
  },
  "cells": [
    {
      "cell_type": "code",
      "source": [
        "# Step 1: Install necessary packages\n",
        "!pip install streamlit pyngrok scikit-learn pandas numpy\n"
      ],
      "metadata": {
        "colab": {
          "base_uri": "https://localhost:8080/"
        },
        "id": "DX6dKXoktNiW",
        "outputId": "3052e8a0-e2e7-4deb-aa42-8a7189757c9b"
      },
      "execution_count": null,
      "outputs": [
        {
          "output_type": "stream",
          "name": "stdout",
          "text": [
            "Collecting streamlit\n",
            "  Downloading streamlit-1.46.0-py3-none-any.whl.metadata (9.0 kB)\n",
            "Collecting pyngrok\n",
            "  Downloading pyngrok-7.2.11-py3-none-any.whl.metadata (9.4 kB)\n",
            "Requirement already satisfied: scikit-learn in /usr/local/lib/python3.11/dist-packages (1.6.1)\n",
            "Requirement already satisfied: pandas in /usr/local/lib/python3.11/dist-packages (2.2.2)\n",
            "Requirement already satisfied: numpy in /usr/local/lib/python3.11/dist-packages (2.0.2)\n",
            "Requirement already satisfied: altair<6,>=4.0 in /usr/local/lib/python3.11/dist-packages (from streamlit) (5.5.0)\n",
            "Requirement already satisfied: blinker<2,>=1.5.0 in /usr/local/lib/python3.11/dist-packages (from streamlit) (1.9.0)\n",
            "Requirement already satisfied: cachetools<7,>=4.0 in /usr/local/lib/python3.11/dist-packages (from streamlit) (5.5.2)\n",
            "Requirement already satisfied: click<9,>=7.0 in /usr/local/lib/python3.11/dist-packages (from streamlit) (8.2.1)\n",
            "Requirement already satisfied: packaging<26,>=20 in /usr/local/lib/python3.11/dist-packages (from streamlit) (24.2)\n",
            "Requirement already satisfied: pillow<12,>=7.1.0 in /usr/local/lib/python3.11/dist-packages (from streamlit) (11.2.1)\n",
            "Requirement already satisfied: protobuf<7,>=3.20 in /usr/local/lib/python3.11/dist-packages (from streamlit) (5.29.5)\n",
            "Requirement already satisfied: pyarrow>=7.0 in /usr/local/lib/python3.11/dist-packages (from streamlit) (18.1.0)\n",
            "Requirement already satisfied: requests<3,>=2.27 in /usr/local/lib/python3.11/dist-packages (from streamlit) (2.32.3)\n",
            "Requirement already satisfied: tenacity<10,>=8.1.0 in /usr/local/lib/python3.11/dist-packages (from streamlit) (9.1.2)\n",
            "Requirement already satisfied: toml<2,>=0.10.1 in /usr/local/lib/python3.11/dist-packages (from streamlit) (0.10.2)\n",
            "Requirement already satisfied: typing-extensions<5,>=4.4.0 in /usr/local/lib/python3.11/dist-packages (from streamlit) (4.14.0)\n",
            "Collecting watchdog<7,>=2.1.5 (from streamlit)\n",
            "  Downloading watchdog-6.0.0-py3-none-manylinux2014_x86_64.whl.metadata (44 kB)\n",
            "\u001b[2K     \u001b[90m━━━━━━━━━━━━━━━━━━━━━━━━━━━━━━━━━━━━━━━━\u001b[0m \u001b[32m44.3/44.3 kB\u001b[0m \u001b[31m2.9 MB/s\u001b[0m eta \u001b[36m0:00:00\u001b[0m\n",
            "\u001b[?25hRequirement already satisfied: gitpython!=3.1.19,<4,>=3.0.7 in /usr/local/lib/python3.11/dist-packages (from streamlit) (3.1.44)\n",
            "Collecting pydeck<1,>=0.8.0b4 (from streamlit)\n",
            "  Downloading pydeck-0.9.1-py2.py3-none-any.whl.metadata (4.1 kB)\n",
            "Requirement already satisfied: tornado!=6.5.0,<7,>=6.0.3 in /usr/local/lib/python3.11/dist-packages (from streamlit) (6.4.2)\n",
            "Requirement already satisfied: PyYAML>=5.1 in /usr/local/lib/python3.11/dist-packages (from pyngrok) (6.0.2)\n",
            "Requirement already satisfied: scipy>=1.6.0 in /usr/local/lib/python3.11/dist-packages (from scikit-learn) (1.15.3)\n",
            "Requirement already satisfied: joblib>=1.2.0 in /usr/local/lib/python3.11/dist-packages (from scikit-learn) (1.5.1)\n",
            "Requirement already satisfied: threadpoolctl>=3.1.0 in /usr/local/lib/python3.11/dist-packages (from scikit-learn) (3.6.0)\n",
            "Requirement already satisfied: python-dateutil>=2.8.2 in /usr/local/lib/python3.11/dist-packages (from pandas) (2.9.0.post0)\n",
            "Requirement already satisfied: pytz>=2020.1 in /usr/local/lib/python3.11/dist-packages (from pandas) (2025.2)\n",
            "Requirement already satisfied: tzdata>=2022.7 in /usr/local/lib/python3.11/dist-packages (from pandas) (2025.2)\n",
            "Requirement already satisfied: jinja2 in /usr/local/lib/python3.11/dist-packages (from altair<6,>=4.0->streamlit) (3.1.6)\n",
            "Requirement already satisfied: jsonschema>=3.0 in /usr/local/lib/python3.11/dist-packages (from altair<6,>=4.0->streamlit) (4.24.0)\n",
            "Requirement already satisfied: narwhals>=1.14.2 in /usr/local/lib/python3.11/dist-packages (from altair<6,>=4.0->streamlit) (1.43.0)\n",
            "Requirement already satisfied: gitdb<5,>=4.0.1 in /usr/local/lib/python3.11/dist-packages (from gitpython!=3.1.19,<4,>=3.0.7->streamlit) (4.0.12)\n",
            "Requirement already satisfied: six>=1.5 in /usr/local/lib/python3.11/dist-packages (from python-dateutil>=2.8.2->pandas) (1.17.0)\n",
            "Requirement already satisfied: charset-normalizer<4,>=2 in /usr/local/lib/python3.11/dist-packages (from requests<3,>=2.27->streamlit) (3.4.2)\n",
            "Requirement already satisfied: idna<4,>=2.5 in /usr/local/lib/python3.11/dist-packages (from requests<3,>=2.27->streamlit) (3.10)\n",
            "Requirement already satisfied: urllib3<3,>=1.21.1 in /usr/local/lib/python3.11/dist-packages (from requests<3,>=2.27->streamlit) (2.4.0)\n",
            "Requirement already satisfied: certifi>=2017.4.17 in /usr/local/lib/python3.11/dist-packages (from requests<3,>=2.27->streamlit) (2025.6.15)\n",
            "Requirement already satisfied: smmap<6,>=3.0.1 in /usr/local/lib/python3.11/dist-packages (from gitdb<5,>=4.0.1->gitpython!=3.1.19,<4,>=3.0.7->streamlit) (5.0.2)\n",
            "Requirement already satisfied: MarkupSafe>=2.0 in /usr/local/lib/python3.11/dist-packages (from jinja2->altair<6,>=4.0->streamlit) (3.0.2)\n",
            "Requirement already satisfied: attrs>=22.2.0 in /usr/local/lib/python3.11/dist-packages (from jsonschema>=3.0->altair<6,>=4.0->streamlit) (25.3.0)\n",
            "Requirement already satisfied: jsonschema-specifications>=2023.03.6 in /usr/local/lib/python3.11/dist-packages (from jsonschema>=3.0->altair<6,>=4.0->streamlit) (2025.4.1)\n",
            "Requirement already satisfied: referencing>=0.28.4 in /usr/local/lib/python3.11/dist-packages (from jsonschema>=3.0->altair<6,>=4.0->streamlit) (0.36.2)\n",
            "Requirement already satisfied: rpds-py>=0.7.1 in /usr/local/lib/python3.11/dist-packages (from jsonschema>=3.0->altair<6,>=4.0->streamlit) (0.25.1)\n",
            "Downloading streamlit-1.46.0-py3-none-any.whl (10.1 MB)\n",
            "\u001b[2K   \u001b[90m━━━━━━━━━━━━━━━━━━━━━━━━━━━━━━━━━━━━━━━━\u001b[0m \u001b[32m10.1/10.1 MB\u001b[0m \u001b[31m86.2 MB/s\u001b[0m eta \u001b[36m0:00:00\u001b[0m\n",
            "\u001b[?25hDownloading pyngrok-7.2.11-py3-none-any.whl (25 kB)\n",
            "Downloading pydeck-0.9.1-py2.py3-none-any.whl (6.9 MB)\n",
            "\u001b[2K   \u001b[90m━━━━━━━━━━━━━━━━━━━━━━━━━━━━━━━━━━━━━━━━\u001b[0m \u001b[32m6.9/6.9 MB\u001b[0m \u001b[31m78.9 MB/s\u001b[0m eta \u001b[36m0:00:00\u001b[0m\n",
            "\u001b[?25hDownloading watchdog-6.0.0-py3-none-manylinux2014_x86_64.whl (79 kB)\n",
            "\u001b[2K   \u001b[90m━━━━━━━━━━━━━━━━━━━━━━━━━━━━━━━━━━━━━━━━\u001b[0m \u001b[32m79.1/79.1 kB\u001b[0m \u001b[31m6.5 MB/s\u001b[0m eta \u001b[36m0:00:00\u001b[0m\n",
            "\u001b[?25hInstalling collected packages: watchdog, pyngrok, pydeck, streamlit\n",
            "Successfully installed pydeck-0.9.1 pyngrok-7.2.11 streamlit-1.46.0 watchdog-6.0.0\n"
          ]
        }
      ]
    },
    {
      "cell_type": "code",
      "source": [
        "# Step 2: Set up ngrok authentication\n",
        "import os\n",
        "os.environ['NGROK_TOKEN'] = \"2r4ojhQNjw3aCjcuOkR9dUUf2hS_5dTdSVqRpU4kVbTR8vNwV\"\n",
        "!ngrok authtoken $NGROK_TOKEN"
      ],
      "metadata": {
        "colab": {
          "base_uri": "https://localhost:8080/"
        },
        "id": "crMUOpq7tLhW",
        "outputId": "cd5e2885-1973-4fda-ddfa-48f2423a2198"
      },
      "execution_count": null,
      "outputs": [
        {
          "output_type": "stream",
          "name": "stdout",
          "text": [
            "Authtoken saved to configuration file: /root/.config/ngrok/ngrok.yml\n"
          ]
        }
      ]
    },
    {
      "cell_type": "code",
      "source": [
        "import joblib\n",
        "import numpy as np\n",
        "import xgboost as xgb\n",
        "\n",
        "model_path = \"/content/xgb_model.joblib\"\n",
        "\n",
        "try:\n",
        "    with open(model_path, 'rb') as f:\n",
        "        model = joblib.load(f)\n",
        "    print(\"Model loaded successfully.\")\n",
        "except FileNotFoundError:\n",
        "    print(\"Model not found. Training new model...\")\n",
        "\n",
        "    model_xgb = xgb(random_state=42)\n",
        "\n",
        "\n",
        "    model_xgb.fit(X_resampled, y_resampled)\n",
        "\n",
        "    with open(model_path, 'wb') as f:\n",
        "        joblib.dump(model_xgb, f)\n",
        "    print(\"Trained and saved new model.\")"
      ],
      "metadata": {
        "colab": {
          "base_uri": "https://localhost:8080/"
        },
        "id": "cspIf9hftJZ9",
        "outputId": "c85e0007-96d1-435b-d152-ee5d7730c47f"
      },
      "execution_count": null,
      "outputs": [
        {
          "output_type": "stream",
          "name": "stdout",
          "text": [
            "Model loaded successfully.\n"
          ]
        }
      ]
    },
    {
      "cell_type": "code",
      "source": [
        "!pip install streamlit pyngrok matplotlib seaborn pandas numpy scikit-learn"
      ],
      "metadata": {
        "colab": {
          "base_uri": "https://localhost:8080/"
        },
        "id": "UETZGaNgtI9F",
        "outputId": "989215d8-232d-444b-d490-fb957b9ba575"
      },
      "execution_count": null,
      "outputs": [
        {
          "output_type": "stream",
          "name": "stdout",
          "text": [
            "Requirement already satisfied: streamlit in /usr/local/lib/python3.11/dist-packages (1.46.0)\n",
            "Requirement already satisfied: pyngrok in /usr/local/lib/python3.11/dist-packages (7.2.11)\n",
            "Requirement already satisfied: matplotlib in /usr/local/lib/python3.11/dist-packages (3.10.0)\n",
            "Requirement already satisfied: seaborn in /usr/local/lib/python3.11/dist-packages (0.13.2)\n",
            "Requirement already satisfied: pandas in /usr/local/lib/python3.11/dist-packages (2.2.2)\n",
            "Requirement already satisfied: numpy in /usr/local/lib/python3.11/dist-packages (2.0.2)\n",
            "Requirement already satisfied: scikit-learn in /usr/local/lib/python3.11/dist-packages (1.6.1)\n",
            "Requirement already satisfied: altair<6,>=4.0 in /usr/local/lib/python3.11/dist-packages (from streamlit) (5.5.0)\n",
            "Requirement already satisfied: blinker<2,>=1.5.0 in /usr/local/lib/python3.11/dist-packages (from streamlit) (1.9.0)\n",
            "Requirement already satisfied: cachetools<7,>=4.0 in /usr/local/lib/python3.11/dist-packages (from streamlit) (5.5.2)\n",
            "Requirement already satisfied: click<9,>=7.0 in /usr/local/lib/python3.11/dist-packages (from streamlit) (8.2.1)\n",
            "Requirement already satisfied: packaging<26,>=20 in /usr/local/lib/python3.11/dist-packages (from streamlit) (24.2)\n",
            "Requirement already satisfied: pillow<12,>=7.1.0 in /usr/local/lib/python3.11/dist-packages (from streamlit) (11.2.1)\n",
            "Requirement already satisfied: protobuf<7,>=3.20 in /usr/local/lib/python3.11/dist-packages (from streamlit) (5.29.5)\n",
            "Requirement already satisfied: pyarrow>=7.0 in /usr/local/lib/python3.11/dist-packages (from streamlit) (18.1.0)\n",
            "Requirement already satisfied: requests<3,>=2.27 in /usr/local/lib/python3.11/dist-packages (from streamlit) (2.32.3)\n",
            "Requirement already satisfied: tenacity<10,>=8.1.0 in /usr/local/lib/python3.11/dist-packages (from streamlit) (9.1.2)\n",
            "Requirement already satisfied: toml<2,>=0.10.1 in /usr/local/lib/python3.11/dist-packages (from streamlit) (0.10.2)\n",
            "Requirement already satisfied: typing-extensions<5,>=4.4.0 in /usr/local/lib/python3.11/dist-packages (from streamlit) (4.14.0)\n",
            "Requirement already satisfied: watchdog<7,>=2.1.5 in /usr/local/lib/python3.11/dist-packages (from streamlit) (6.0.0)\n",
            "Requirement already satisfied: gitpython!=3.1.19,<4,>=3.0.7 in /usr/local/lib/python3.11/dist-packages (from streamlit) (3.1.44)\n",
            "Requirement already satisfied: pydeck<1,>=0.8.0b4 in /usr/local/lib/python3.11/dist-packages (from streamlit) (0.9.1)\n",
            "Requirement already satisfied: tornado!=6.5.0,<7,>=6.0.3 in /usr/local/lib/python3.11/dist-packages (from streamlit) (6.4.2)\n",
            "Requirement already satisfied: PyYAML>=5.1 in /usr/local/lib/python3.11/dist-packages (from pyngrok) (6.0.2)\n",
            "Requirement already satisfied: contourpy>=1.0.1 in /usr/local/lib/python3.11/dist-packages (from matplotlib) (1.3.2)\n",
            "Requirement already satisfied: cycler>=0.10 in /usr/local/lib/python3.11/dist-packages (from matplotlib) (0.12.1)\n",
            "Requirement already satisfied: fonttools>=4.22.0 in /usr/local/lib/python3.11/dist-packages (from matplotlib) (4.58.4)\n",
            "Requirement already satisfied: kiwisolver>=1.3.1 in /usr/local/lib/python3.11/dist-packages (from matplotlib) (1.4.8)\n",
            "Requirement already satisfied: pyparsing>=2.3.1 in /usr/local/lib/python3.11/dist-packages (from matplotlib) (3.2.3)\n",
            "Requirement already satisfied: python-dateutil>=2.7 in /usr/local/lib/python3.11/dist-packages (from matplotlib) (2.9.0.post0)\n",
            "Requirement already satisfied: pytz>=2020.1 in /usr/local/lib/python3.11/dist-packages (from pandas) (2025.2)\n",
            "Requirement already satisfied: tzdata>=2022.7 in /usr/local/lib/python3.11/dist-packages (from pandas) (2025.2)\n",
            "Requirement already satisfied: scipy>=1.6.0 in /usr/local/lib/python3.11/dist-packages (from scikit-learn) (1.15.3)\n",
            "Requirement already satisfied: joblib>=1.2.0 in /usr/local/lib/python3.11/dist-packages (from scikit-learn) (1.5.1)\n",
            "Requirement already satisfied: threadpoolctl>=3.1.0 in /usr/local/lib/python3.11/dist-packages (from scikit-learn) (3.6.0)\n",
            "Requirement already satisfied: jinja2 in /usr/local/lib/python3.11/dist-packages (from altair<6,>=4.0->streamlit) (3.1.6)\n",
            "Requirement already satisfied: jsonschema>=3.0 in /usr/local/lib/python3.11/dist-packages (from altair<6,>=4.0->streamlit) (4.24.0)\n",
            "Requirement already satisfied: narwhals>=1.14.2 in /usr/local/lib/python3.11/dist-packages (from altair<6,>=4.0->streamlit) (1.43.0)\n",
            "Requirement already satisfied: gitdb<5,>=4.0.1 in /usr/local/lib/python3.11/dist-packages (from gitpython!=3.1.19,<4,>=3.0.7->streamlit) (4.0.12)\n",
            "Requirement already satisfied: six>=1.5 in /usr/local/lib/python3.11/dist-packages (from python-dateutil>=2.7->matplotlib) (1.17.0)\n",
            "Requirement already satisfied: charset-normalizer<4,>=2 in /usr/local/lib/python3.11/dist-packages (from requests<3,>=2.27->streamlit) (3.4.2)\n",
            "Requirement already satisfied: idna<4,>=2.5 in /usr/local/lib/python3.11/dist-packages (from requests<3,>=2.27->streamlit) (3.10)\n",
            "Requirement already satisfied: urllib3<3,>=1.21.1 in /usr/local/lib/python3.11/dist-packages (from requests<3,>=2.27->streamlit) (2.4.0)\n",
            "Requirement already satisfied: certifi>=2017.4.17 in /usr/local/lib/python3.11/dist-packages (from requests<3,>=2.27->streamlit) (2025.6.15)\n",
            "Requirement already satisfied: smmap<6,>=3.0.1 in /usr/local/lib/python3.11/dist-packages (from gitdb<5,>=4.0.1->gitpython!=3.1.19,<4,>=3.0.7->streamlit) (5.0.2)\n",
            "Requirement already satisfied: MarkupSafe>=2.0 in /usr/local/lib/python3.11/dist-packages (from jinja2->altair<6,>=4.0->streamlit) (3.0.2)\n",
            "Requirement already satisfied: attrs>=22.2.0 in /usr/local/lib/python3.11/dist-packages (from jsonschema>=3.0->altair<6,>=4.0->streamlit) (25.3.0)\n",
            "Requirement already satisfied: jsonschema-specifications>=2023.03.6 in /usr/local/lib/python3.11/dist-packages (from jsonschema>=3.0->altair<6,>=4.0->streamlit) (2025.4.1)\n",
            "Requirement already satisfied: referencing>=0.28.4 in /usr/local/lib/python3.11/dist-packages (from jsonschema>=3.0->altair<6,>=4.0->streamlit) (0.36.2)\n",
            "Requirement already satisfied: rpds-py>=0.7.1 in /usr/local/lib/python3.11/dist-packages (from jsonschema>=3.0->altair<6,>=4.0->streamlit) (0.25.1)\n"
          ]
        }
      ]
    },
    {
      "cell_type": "code",
      "source": [
        "import streamlit as st\n",
        "import numpy as np\n",
        "import matplotlib.pyplot as plt\n",
        "import pickle\n",
        "from datetime import datetime\n",
        "\n",
        "import seaborn as sns\n",
        "import pandas as pd\n",
        "import joblib\n",
        "def load_model():\n",
        "    try:\n",
        "        with open('/content/xgb_model.joblib', 'rb') as f:\n",
        "            return joblib.load(f)\n",
        "    except FileNotFoundError:\n",
        "        st.error(\"Model file not found.\")\n",
        "        return None"
      ],
      "metadata": {
        "id": "CpALZhMbtGv2"
      },
      "execution_count": null,
      "outputs": []
    },
    {
      "cell_type": "code",
      "source": [
        "!pip show streamlit"
      ],
      "metadata": {
        "colab": {
          "base_uri": "https://localhost:8080/"
        },
        "id": "biIBtkb-sB1d",
        "outputId": "fb6e429f-ef3d-44d1-c438-c7b5882a0301"
      },
      "execution_count": null,
      "outputs": [
        {
          "output_type": "stream",
          "name": "stdout",
          "text": [
            "Name: streamlit\n",
            "Version: 1.46.0\n",
            "Summary: A faster way to build and share data apps\n",
            "Home-page: https://streamlit.io\n",
            "Author: Snowflake Inc\n",
            "Author-email: hello@streamlit.io\n",
            "License: Apache License 2.0\n",
            "Location: /usr/local/lib/python3.11/dist-packages\n",
            "Requires: altair, blinker, cachetools, click, gitpython, numpy, packaging, pandas, pillow, protobuf, pyarrow, pydeck, requests, tenacity, toml, tornado, typing-extensions, watchdog\n",
            "Required-by: \n"
          ]
        }
      ]
    },
    {
      "cell_type": "code",
      "source": [
        "!pip uninstall -y streamlit && pip install streamlit==1.45.0"
      ],
      "metadata": {
        "colab": {
          "base_uri": "https://localhost:8080/"
        },
        "id": "VkY20dJsr_-N",
        "outputId": "f21a25a9-6b63-4ad2-c300-05bf945c7ef4"
      },
      "execution_count": null,
      "outputs": [
        {
          "output_type": "stream",
          "name": "stdout",
          "text": [
            "Found existing installation: streamlit 1.46.0\n",
            "Uninstalling streamlit-1.46.0:\n",
            "  Successfully uninstalled streamlit-1.46.0\n",
            "Collecting streamlit==1.45.0\n",
            "  Downloading streamlit-1.45.0-py3-none-any.whl.metadata (8.9 kB)\n",
            "Requirement already satisfied: altair<6,>=4.0 in /usr/local/lib/python3.11/dist-packages (from streamlit==1.45.0) (5.5.0)\n",
            "Requirement already satisfied: blinker<2,>=1.5.0 in /usr/local/lib/python3.11/dist-packages (from streamlit==1.45.0) (1.9.0)\n",
            "Requirement already satisfied: cachetools<6,>=4.0 in /usr/local/lib/python3.11/dist-packages (from streamlit==1.45.0) (5.5.2)\n",
            "Requirement already satisfied: click<9,>=7.0 in /usr/local/lib/python3.11/dist-packages (from streamlit==1.45.0) (8.2.1)\n",
            "Requirement already satisfied: numpy<3,>=1.23 in /usr/local/lib/python3.11/dist-packages (from streamlit==1.45.0) (2.0.2)\n",
            "Requirement already satisfied: packaging<25,>=20 in /usr/local/lib/python3.11/dist-packages (from streamlit==1.45.0) (24.2)\n",
            "Requirement already satisfied: pandas<3,>=1.4.0 in /usr/local/lib/python3.11/dist-packages (from streamlit==1.45.0) (2.2.2)\n",
            "Requirement already satisfied: pillow<12,>=7.1.0 in /usr/local/lib/python3.11/dist-packages (from streamlit==1.45.0) (11.2.1)\n",
            "Requirement already satisfied: protobuf<7,>=3.20 in /usr/local/lib/python3.11/dist-packages (from streamlit==1.45.0) (5.29.5)\n",
            "Requirement already satisfied: pyarrow>=7.0 in /usr/local/lib/python3.11/dist-packages (from streamlit==1.45.0) (18.1.0)\n",
            "Requirement already satisfied: requests<3,>=2.27 in /usr/local/lib/python3.11/dist-packages (from streamlit==1.45.0) (2.32.3)\n",
            "Requirement already satisfied: tenacity<10,>=8.1.0 in /usr/local/lib/python3.11/dist-packages (from streamlit==1.45.0) (9.1.2)\n",
            "Requirement already satisfied: toml<2,>=0.10.1 in /usr/local/lib/python3.11/dist-packages (from streamlit==1.45.0) (0.10.2)\n",
            "Requirement already satisfied: typing-extensions<5,>=4.4.0 in /usr/local/lib/python3.11/dist-packages (from streamlit==1.45.0) (4.14.0)\n",
            "Requirement already satisfied: watchdog<7,>=2.1.5 in /usr/local/lib/python3.11/dist-packages (from streamlit==1.45.0) (6.0.0)\n",
            "Requirement already satisfied: gitpython!=3.1.19,<4,>=3.0.7 in /usr/local/lib/python3.11/dist-packages (from streamlit==1.45.0) (3.1.44)\n",
            "Requirement already satisfied: pydeck<1,>=0.8.0b4 in /usr/local/lib/python3.11/dist-packages (from streamlit==1.45.0) (0.9.1)\n",
            "Requirement already satisfied: tornado<7,>=6.0.3 in /usr/local/lib/python3.11/dist-packages (from streamlit==1.45.0) (6.4.2)\n",
            "Requirement already satisfied: jinja2 in /usr/local/lib/python3.11/dist-packages (from altair<6,>=4.0->streamlit==1.45.0) (3.1.6)\n",
            "Requirement already satisfied: jsonschema>=3.0 in /usr/local/lib/python3.11/dist-packages (from altair<6,>=4.0->streamlit==1.45.0) (4.24.0)\n",
            "Requirement already satisfied: narwhals>=1.14.2 in /usr/local/lib/python3.11/dist-packages (from altair<6,>=4.0->streamlit==1.45.0) (1.43.0)\n",
            "Requirement already satisfied: gitdb<5,>=4.0.1 in /usr/local/lib/python3.11/dist-packages (from gitpython!=3.1.19,<4,>=3.0.7->streamlit==1.45.0) (4.0.12)\n",
            "Requirement already satisfied: python-dateutil>=2.8.2 in /usr/local/lib/python3.11/dist-packages (from pandas<3,>=1.4.0->streamlit==1.45.0) (2.9.0.post0)\n",
            "Requirement already satisfied: pytz>=2020.1 in /usr/local/lib/python3.11/dist-packages (from pandas<3,>=1.4.0->streamlit==1.45.0) (2025.2)\n",
            "Requirement already satisfied: tzdata>=2022.7 in /usr/local/lib/python3.11/dist-packages (from pandas<3,>=1.4.0->streamlit==1.45.0) (2025.2)\n",
            "Requirement already satisfied: charset-normalizer<4,>=2 in /usr/local/lib/python3.11/dist-packages (from requests<3,>=2.27->streamlit==1.45.0) (3.4.2)\n",
            "Requirement already satisfied: idna<4,>=2.5 in /usr/local/lib/python3.11/dist-packages (from requests<3,>=2.27->streamlit==1.45.0) (3.10)\n",
            "Requirement already satisfied: urllib3<3,>=1.21.1 in /usr/local/lib/python3.11/dist-packages (from requests<3,>=2.27->streamlit==1.45.0) (2.4.0)\n",
            "Requirement already satisfied: certifi>=2017.4.17 in /usr/local/lib/python3.11/dist-packages (from requests<3,>=2.27->streamlit==1.45.0) (2025.6.15)\n",
            "Requirement already satisfied: smmap<6,>=3.0.1 in /usr/local/lib/python3.11/dist-packages (from gitdb<5,>=4.0.1->gitpython!=3.1.19,<4,>=3.0.7->streamlit==1.45.0) (5.0.2)\n",
            "Requirement already satisfied: MarkupSafe>=2.0 in /usr/local/lib/python3.11/dist-packages (from jinja2->altair<6,>=4.0->streamlit==1.45.0) (3.0.2)\n",
            "Requirement already satisfied: attrs>=22.2.0 in /usr/local/lib/python3.11/dist-packages (from jsonschema>=3.0->altair<6,>=4.0->streamlit==1.45.0) (25.3.0)\n",
            "Requirement already satisfied: jsonschema-specifications>=2023.03.6 in /usr/local/lib/python3.11/dist-packages (from jsonschema>=3.0->altair<6,>=4.0->streamlit==1.45.0) (2025.4.1)\n",
            "Requirement already satisfied: referencing>=0.28.4 in /usr/local/lib/python3.11/dist-packages (from jsonschema>=3.0->altair<6,>=4.0->streamlit==1.45.0) (0.36.2)\n",
            "Requirement already satisfied: rpds-py>=0.7.1 in /usr/local/lib/python3.11/dist-packages (from jsonschema>=3.0->altair<6,>=4.0->streamlit==1.45.0) (0.25.1)\n",
            "Requirement already satisfied: six>=1.5 in /usr/local/lib/python3.11/dist-packages (from python-dateutil>=2.8.2->pandas<3,>=1.4.0->streamlit==1.45.0) (1.17.0)\n",
            "Downloading streamlit-1.45.0-py3-none-any.whl (9.9 MB)\n",
            "\u001b[2K   \u001b[90m━━━━━━━━━━━━━━━━━━━━━━━━━━━━━━━━━━━━━━━━\u001b[0m \u001b[32m9.9/9.9 MB\u001b[0m \u001b[31m68.9 MB/s\u001b[0m eta \u001b[36m0:00:00\u001b[0m\n",
            "\u001b[?25hInstalling collected packages: streamlit\n",
            "Successfully installed streamlit-1.45.0\n"
          ]
        }
      ]
    },
    {
      "cell_type": "code",
      "source": [
        "pip uninstall numpy -y && pip install numpy"
      ],
      "metadata": {
        "colab": {
          "base_uri": "https://localhost:8080/"
        },
        "id": "IMOLYZlOr7EW",
        "outputId": "859381b6-2c16-4f85-d8e1-fffbc79cef7f"
      },
      "execution_count": null,
      "outputs": [
        {
          "output_type": "stream",
          "name": "stdout",
          "text": [
            "Found existing installation: numpy 2.0.2\n",
            "Uninstalling numpy-2.0.2:\n",
            "  Successfully uninstalled numpy-2.0.2\n",
            "Collecting numpy\n",
            "  Downloading numpy-2.3.1-cp311-cp311-manylinux_2_28_x86_64.whl.metadata (62 kB)\n",
            "\u001b[2K     \u001b[90m━━━━━━━━━━━━━━━━━━━━━━━━━━━━━━━━━━━━━━━━\u001b[0m \u001b[32m62.1/62.1 kB\u001b[0m \u001b[31m3.8 MB/s\u001b[0m eta \u001b[36m0:00:00\u001b[0m\n",
            "\u001b[?25hDownloading numpy-2.3.1-cp311-cp311-manylinux_2_28_x86_64.whl (16.9 MB)\n",
            "\u001b[2K   \u001b[90m━━━━━━━━━━━━━━━━━━━━━━━━━━━━━━━━━━━━━━━━\u001b[0m \u001b[32m16.9/16.9 MB\u001b[0m \u001b[31m61.8 MB/s\u001b[0m eta \u001b[36m0:00:00\u001b[0m\n",
            "\u001b[?25hInstalling collected packages: numpy\n",
            "\u001b[31mERROR: pip's dependency resolver does not currently take into account all the packages that are installed. This behaviour is the source of the following dependency conflicts.\n",
            "tensorflow 2.18.0 requires numpy<2.1.0,>=1.26.0, but you have numpy 2.3.1 which is incompatible.\n",
            "cupy-cuda12x 13.3.0 requires numpy<2.3,>=1.22, but you have numpy 2.3.1 which is incompatible.\n",
            "numba 0.60.0 requires numpy<2.1,>=1.22, but you have numpy 2.3.1 which is incompatible.\u001b[0m\u001b[31m\n",
            "\u001b[0mSuccessfully installed numpy-2.3.1\n"
          ]
        }
      ]
    },
    {
      "cell_type": "code",
      "execution_count": null,
      "metadata": {
        "id": "Y0wd5IlhrnBi"
      },
      "outputs": [],
      "source": [
        "with open(\"app.py\", \"w\") as f:\n",
        "  f.write('''from sklearn.base import BaseEstimator, TransformerMixin\n",
        "import joblib\n",
        "import streamlit as st\n",
        "import pandas as pd\n",
        "import numpy as np\n",
        "import matplotlib.pyplot as plt\n",
        "import seaborn as sns\n",
        "import time\n",
        "from datetime import datetime\n",
        "\n",
        "# Set page configuration for the Streamlit app\n",
        "st.set_page_config(\n",
        "    page_title=\"IntelliShield: AI for Substance Misuse Prevention\",\n",
        "    page_icon=\"🚫🌿🤖\",\n",
        "    layout=\"wide\",\n",
        "    initial_sidebar_state=\"expanded\"\n",
        ")\n",
        "\n",
        "# Display Jordan flag at the top-right corner of the page\n",
        "st.markdown(\n",
        "    \"\"\"\n",
        "    <div style='text-align: right; padding: 20px;'>\n",
        "        <img src='https://upload.wikimedia.org/wikipedia/commons/c/c0/Flag_of_Jordan.svg' width='300'/>\n",
        "    </div>\n",
        "    \"\"\",\n",
        "    unsafe_allow_html=True\n",
        ")\n",
        "\n",
        "# Custom CSS styling to improve the UI look & feel\n",
        "st.markdown(\"\"\"\n",
        "<style>\n",
        "    .main { background-color: #1a1a1d; }\n",
        "    .stButton>button {                        #sign in\n",
        "        background-color:  #4fc3f7;\n",
        "        color: #ffffff;\n",
        "        border-radius: 10px;\n",
        "        padding: 10px 15px;\n",
        "        font-weight: bold;\n",
        "        transition: all 0.3s ease;\n",
        "        border: none;\n",
        "    }\n",
        "    .stButton>button:hover {\n",
        "        background-color: #162b7e;\n",
        "        transform: translateY(-2px);\n",
        "        box-shadow: 0 6px 18px rgba(0,0,0,0.1);\n",
        "    }\n",
        "    .login-container {\n",
        "        background-color: #162b7e;\n",
        "        padding: 30px;\n",
        "        border-radius: 15px;\n",
        "        box-shadow: 0 8px 25px rgba(171, 71, 188, 0.1);\n",
        "        max-width: 600px;\n",
        "        margin: 50px auto;\n",
        "    }\n",
        "    .welcome-header {\n",
        "        font-size: 36px;\n",
        "        color:  #4fc3f7;\n",
        "        text-align: center;\n",
        "        margin-bottom: 30px;\n",
        "        font-weight: bold;\n",
        "        text-shadow: 1px 1px 3px rgba(171, 71, 188, 0.1);\n",
        "    }\n",
        "    .sidebar-content {\n",
        "        background-color: #162b7e;\n",
        "        padding: 15px;\n",
        "        border-radius: 10px;\n",
        "    }\n",
        "    .stProgress > div > div {\n",
        "        background-color:  #162b7e;\n",
        "    }\n",
        "</style>\n",
        "\"\"\", unsafe_allow_html=True)\n",
        "\n",
        "# Custom Transformer class to perform Winsorization on data (clip outliers)\n",
        "class Winsorizer(BaseEstimator, TransformerMixin):\n",
        "    def __init__(self, factor=1.5):\n",
        "        self.factor = factor\n",
        "\n",
        "    # Fit calculates the lower and upper bounds based on IQR\n",
        "    def fit(self, X, y=None):\n",
        "        Q1 = X.quantile(0.25)\n",
        "        Q3 = X.quantile(0.75)\n",
        "        IQR = Q3 - Q1\n",
        "        self.lower_bounds_ = Q1 - self.factor * IQR\n",
        "        self.upper_bounds_ = Q3 + self.factor * IQR\n",
        "        return self\n",
        "\n",
        "    # Transform clips values outside the calculated bounds to the bounds\n",
        "    def transform(self, X):\n",
        "        X_c = X.copy()\n",
        "        for col in X.columns:\n",
        "            X_c[col] = X_c[col].clip(self.lower_bounds_[col], self.upper_bounds_[col])\n",
        "        return X_c\n",
        "\n",
        "# Function to load the trained model from disk using joblib\n",
        "def load_model():\n",
        "    try:\n",
        "        with open('/content/xgb_model.joblib', 'rb') as f:\n",
        "            return joblib.load(f)\n",
        "    except FileNotFoundError:\n",
        "        st.error(\"Model file not found.\")\n",
        "        return None\n",
        "\n",
        "# Function to load the data preprocessing pipeline\n",
        "def load_pipeline():\n",
        "    try:\n",
        "        with open('/content/pipeline.pkl', 'rb') as f:\n",
        "            return joblib.load(f)\n",
        "    except FileNotFoundError:\n",
        "        st.error(\"Pipeline file not found.\")\n",
        "        return None\n",
        "\n",
        "# Initialize and store the model and pipeline in session state for caching\n",
        "if \"model\" not in st.session_state:\n",
        "    st.session_state.model = load_model()\n",
        "\n",
        "if \"pipeline\" not in st.session_state:\n",
        "    st.session_state.pipeline = load_pipeline()\n",
        "\n",
        "model = st.session_state.model\n",
        "pipeline = st.session_state.pipeline\n",
        "\n",
        "# Stop execution if model or pipeline failed to load\n",
        "if model is None or pipeline is None:\n",
        "    st.stop()\n",
        "\n",
        "# Sidebar information and contact details\n",
        "with st.sidebar:\n",
        "    st.markdown('<div class=\"sidebar-content\">', unsafe_allow_html=True)\n",
        "    st.title(\"System Information\")\n",
        "    st.markdown(\"#### IntelliShield: AI for Substance Misuse Prevention System\")\n",
        "\n",
        "    st.info(\"\"\"\n",
        "**Built with:**\n",
        "- Python\n",
        "- Streamlit\n",
        "- Scikit-learn\n",
        "- XGBOOSTClassifier\n",
        "\n",
        "**By:**\n",
        "- Duaa Swalmeh\n",
        "- Sarah Bani Khalaf\n",
        "    \"\"\")\n",
        "\n",
        "    now = datetime.now()\n",
        "    st.write(f\"🗓️ Date: {now.strftime('%B %d, %Y')}\")\n",
        "    st.write(f\"⏰ Time: {now.strftime('%H:%M:%S')}\")\n",
        "\n",
        "    st.markdown(\"---\")\n",
        "    st.subheader(\"Contact Us:\")\n",
        "    st.markdown(\"📩 [duaaswalmeh5@gmail.com](mailto:duaaswalmeh5@gmail.com)\")\n",
        "    st.markdown('</div>', unsafe_allow_html=True)\n",
        "\n",
        "# Login page UI and logic\n",
        "if \"logged_in\" not in st.session_state:\n",
        "    st.session_state.logged_in = False\n",
        "\n",
        "def show_login_page():\n",
        "    st.markdown('<div class=\"login-container\">', unsafe_allow_html=True)\n",
        "    st.markdown('<h1 class=\"welcome-header\">🚫 Welcome to IntelliShield: AI for Substance Misuse Prevention System 🚫</h1>', unsafe_allow_html=True)\n",
        "    st.write(\"Please sign in to access the prediction system! 🔒\")\n",
        "    col1, col2 = st.columns(2)\n",
        "    with col1:\n",
        "        first_name = st.text_input(\"First Name\", placeholder=\"Enter your first name\")\n",
        "    with col2:\n",
        "        last_name = st.text_input(\"Last Name\", placeholder=\"Enter your last name\")\n",
        "    username = st.text_input(\"Username\", placeholder=\"Create a username\")\n",
        "    if st.button(\"Sign In\", use_container_width=True):\n",
        "      if first_name and last_name and username:\n",
        "        st.session_state.logged_in = True\n",
        "        st.session_state.first_name = first_name\n",
        "        st.session_state.last_name = last_name\n",
        "        st.session_state.username = username\n",
        "\n",
        "      try:\n",
        "            st.experimental_rerun()\n",
        "      except AttributeError:\n",
        "            pass\n",
        "    else:\n",
        "        st.error(\"Please fill in all fields.\")\n",
        "\n",
        "    st.markdown('</div>', unsafe_allow_html=True)\n",
        "\n",
        "# Mappings for categorical inputs to numerical values\n",
        "age_map = {\n",
        "    \"12-13\": 1, \"14-15\": 2, \"16-17\": 3, \"18-19\": 4, \"20-21\": 5, \"22-23\": 6,\n",
        "    \"24-25\": 7, \"26-29\": 8, \"30-34\": 9, \"35-39\": 10, \"40-44\": 11,\n",
        "    \"45-49\": 12, \"50-54\": 13, \"55-59\": 14, \"60-64\": 15, \"65-69\": 16, \"70+\": 17\n",
        "}\n",
        "\n",
        "gender_map = {\"Male\": 1, \"Female\": 2}\n",
        "\n",
        "education_map = {\n",
        "    \"1-2: Preschool\": 1,\n",
        "    \"3-6: Primary\": 2,\n",
        "    \"7-9: Middle School\": 3,\n",
        "    \"10: High School\": 4,\n",
        "    \"11: Diploma / Some College\": 5,\n",
        "    \"12: University Graduate or Higher\": 6\n",
        "}\n",
        "\n",
        "feature_help = {\n",
        "    \"Age Group\": \"ℹ️ Select your age group.\",\n",
        "    \"Gender\": \"ℹ️ Select your gender.\",\n",
        "    \"Education Level\": \"ℹ️ Select your highest level of education.\",\n",
        "    \"Conscientiousness\": \"ℹ️ Measures how disciplined and organized you are.\",\n",
        "    \"Extraversion\": \"ℹ️ Reflects how outgoing and social you are.\",\n",
        "    \"Neuroticism\": \"ℹ️ Indicates emotional stability or tendency to experience negative emotions.\",\n",
        "    \"Openness\": \"ℹ️ Represents your openness to new experiences and ideas.\",\n",
        "    \"Agreeableness\": \"ℹ️ Measures how cooperative and compassionate you are.\",\n",
        "    \"Impulsiveness\": \"ℹ️ Indicates how likely you are to act without thinking.\",\n",
        "    \"Sensation\": \"ℹ️ Measures your desire for exciting and novel experiences.\"\n",
        "}\n",
        "def show_prediction_page():\n",
        "    with st.form(\"prediction_form\"):\n",
        "        col1, col2 = st.columns(2)\n",
        "        with col1:\n",
        "            age_group = st.selectbox(\"Age Group\", list(age_map.keys()), help=feature_help[\"Age Group\"])\n",
        "            gender = st.selectbox(\"Gender\", list(gender_map.keys()), help=feature_help[\"Gender\"])\n",
        "            education = st.selectbox(\"Education Level\", list(education_map.keys()), help=feature_help[\"Education Level\"])\n",
        "        with col2:\n",
        "            conscientiousness = st.slider(\"Conscientiousness\", 17, 60, 35, help=feature_help[\"Conscientiousness\"])\n",
        "            extraversion = st.slider(\"Extraversion\", 16, 60, 35, help=feature_help[\"Extraversion\"])\n",
        "            neuroticism = st.slider(\"Neuroticism\", 12, 60, 35, help=feature_help[\"Neuroticism\"])\n",
        "            openness = st.slider(\"Openness\", 24, 60, 35, help=feature_help[\"Openness\"])\n",
        "            agreeableness = st.slider(\"Agreeableness\", 12, 60, 35, help=feature_help[\"Agreeableness\"])\n",
        "\n",
        "        impulsiveness = st.slider(\"Impulsiveness\", 1, 11, 5, help=feature_help[\"Impulsiveness\"])\n",
        "        sensation = st.slider(\"Sensation\", 1, 11, 5, help=feature_help[\"Sensation\"])\n",
        "\n",
        "        submitted = st.form_submit_button(\"🔍 Predict\")\n",
        "\n",
        "    if submitted:\n",
        "        input_data = pd.DataFrame({\n",
        "            \"age\": [age_map[age_group]],\n",
        "            \"neuroticism\": [neuroticism],\n",
        "            \"extraversion\": [extraversion],\n",
        "            \"openness\": [openness],\n",
        "            \"agreeableness\": [agreeableness],\n",
        "            \"gender\": [gender_map[gender]],\n",
        "            \"education\": [education_map[education]],\n",
        "            \"conscientiousness\": [conscientiousness],\n",
        "            \"impulsiveness\": [impulsiveness],\n",
        "            \"sensation\": [sensation]\n",
        "        })\n",
        "\n",
        "        processed = pipeline.transform(input_data)\n",
        "        prediction = model.predict(processed)[0]\n",
        "        # Warning note before the results\n",
        "        st.warning(\"\"\"\n",
        "              ⚠️ **Note:**\n",
        "              These predictions are based on an artificial intelligence model and do not guarantee 100% accuracy.\n",
        "              Please take the results as an indicator only and do not rely on them completely.\n",
        "\"\"\")\n",
        "\n",
        "\n",
        "        st.markdown(\"---\")\n",
        "        st.subheader(\"🎯 Prediction Result\")\n",
        "        if prediction == 0:\n",
        "            st.error(\"⚠️ High Risk of Substance Experimentation\")\n",
        "            st.markdown(\"\"\"\n",
        "            **🛡 Recommendations:**\n",
        "            - Maintain healthy habits\n",
        "            - Stay socially engaged in positive environments\n",
        "            - Consider professional counseling if needed\n",
        "            \"\"\")\n",
        "        else:\n",
        "            st.success(\"✅ Low Risk of Substance Experimentation\")\n",
        "            st.markdown(\"\"\"\n",
        "            **👏 Keep it up:**\n",
        "            - Stay consistent with your healthy behavior\n",
        "            - Inspire others to follow your path\n",
        "            \"\"\")\n",
        "         # Thank you message after prediction\n",
        "        st.markdown(\"---\")\n",
        "        st.info(\"🔹🙏Thank you for using our website! We hope you found it helpful.🔹🙏\")\n",
        "\n",
        "\n",
        "# Main app controller to decide which page to show based on login status\n",
        "if st.session_state.logged_in:\n",
        "    st.markdown(f\"### 👋 Welcome, {st.session_state.first_name} {st.session_state.last_name}!\")\n",
        "    st.markdown(\"---\")\n",
        "    show_prediction_page()\n",
        "else:\n",
        "    show_login_page()\n",
        "''')"
      ]
    },
    {
      "cell_type": "code",
      "source": [
        "\n",
        "# Start Streamlit in the background\n",
        "!nohup streamlit run app.py --server.port 8501 &\n",
        "\n",
        "# Use ngrok to create a public URL\n",
        "from pyngrok import ngrok\n",
        "\n",
        "# Kill any existing ngrok processes\n",
        "ngrok.kill()\n",
        "\n",
        "# Create a new tunnel\n",
        "\n",
        "public_url = ngrok.connect(8501, \"http\")\n",
        "print(f\"Public URL: {public_url}\")\n",
        "print(\"\\nYou can now access the Narcotics Experimentation Prediction App at the URL above\")"
      ],
      "metadata": {
        "colab": {
          "base_uri": "https://localhost:8080/"
        },
        "id": "ZS_QqsnurvjG",
        "outputId": "d081df1e-878f-498c-f754-7931dac160b1"
      },
      "execution_count": null,
      "outputs": [
        {
          "output_type": "stream",
          "name": "stdout",
          "text": [
            "nohup: appending output to 'nohup.out'\n",
            "Public URL: NgrokTunnel: \"https://42e7-34-168-250-211.ngrok-free.app\" -> \"http://localhost:8501\"\n",
            "\n",
            "You can now access the Narcotics Experimentation Prediction App at the URL above\n"
          ]
        }
      ]
    },
    {
      "cell_type": "code",
      "source": [
        "!streamlit cache clear"
      ],
      "metadata": {
        "id": "kRAYEICHr2lV"
      },
      "execution_count": null,
      "outputs": []
    },
    {
      "cell_type": "code",
      "source": [
        "!streamlit run app.py"
      ],
      "metadata": {
        "colab": {
          "base_uri": "https://localhost:8080/"
        },
        "id": "Ur0sW7hcr4cN",
        "outputId": "b8002f2c-ae05-4434-e2b6-f6dda27840c5"
      },
      "execution_count": null,
      "outputs": [
        {
          "output_type": "stream",
          "name": "stdout",
          "text": [
            "\n",
            "Collecting usage statistics. To deactivate, set browser.gatherUsageStats to false.\n",
            "\u001b[0m\n",
            "\u001b[0m\n",
            "\u001b[34m\u001b[1m  You can now view your Streamlit app in your browser.\u001b[0m\n",
            "\u001b[0m\n",
            "\u001b[34m  Local URL: \u001b[0m\u001b[1mhttp://localhost:8501\u001b[0m\n",
            "\u001b[34m  Network URL: \u001b[0m\u001b[1mhttp://172.28.0.12:8501\u001b[0m\n",
            "\u001b[34m  External URL: \u001b[0m\u001b[1mhttp://34.168.250.211:8501\u001b[0m\n",
            "\u001b[0m\n",
            "\u001b[34m  Stopping...\u001b[0m\n",
            "\u001b[34m  Stopping...\u001b[0m\n"
          ]
        }
      ]
    }
  ]
}